{
 "cells": [
  {
   "cell_type": "code",
   "execution_count": 1,
   "metadata": {
    "collapsed": true
   },
   "outputs": [],
   "source": [
    "%config InlineBackend.figure_format='retina'\n",
    "%matplotlib inline\n",
    "\n",
    "# Silence warnings\n",
    "import warnings\n",
    "warnings.simplefilter(action=\"ignore\", category=FutureWarning)\n",
    "warnings.simplefilter(action=\"ignore\", category=UserWarning)\n",
    "warnings.simplefilter(action=\"ignore\", category=RuntimeWarning)\n",
    "\n",
    "import numpy as np\n",
    "np.random.seed(123)\n",
    "import matplotlib.pyplot as plt\n",
    "plt.rcParams[\"figure.figsize\"] = (8, 8)\n",
    "plt.rcParams[\"font.size\"] = 14\n",
    "\n",
    "from collections import Counter"
   ]
  },
  {
   "cell_type": "markdown",
   "metadata": {},
   "source": [
    "## Splitting criteria for tree growing\n",
    "\n",
    "Why not use accuracy as splitting criteria for classification trees.\n",
    "\n",
    "In this problem it is possible to separate class 0 and class 1 perfectly."
   ]
  },
  {
   "cell_type": "code",
   "execution_count": 2,
   "metadata": {
    "collapsed": true
   },
   "outputs": [],
   "source": [
    "X = np.array([[0,0,0], [0,0,1], [0,1,0], [0,1,1], [0,1,1], [1,0,0],\n",
    "              [1,0,0], [1,0,0], [1,0,0], [1,1,1]])\n",
    "# two class problem with classes 0 and 1\n",
    "y = [0,0,1,1,1,1,1,1,1,1]"
   ]
  },
  {
   "cell_type": "code",
   "execution_count": 3,
   "metadata": {
    "collapsed": false
   },
   "outputs": [],
   "source": [
    "def accuracy(a, b):\n",
    "    N = a + b\n",
    "    return 1 - max(a/N, b/N)\n",
    "\n",
    "\n",
    "def entropy(a, b):\n",
    "    p = b/(a + b) # fraction or probability for class 1\n",
    "    ent = 0\n",
    "    if p > 0:\n",
    "        ent += p * np.log2(p)\n",
    "    if (1-p) > 0:\n",
    "        ent += (1-p) * np.log2(1-p)\n",
    "    return -ent\n",
    "\n",
    "\n",
    "def gini(a, b):\n",
    "    p = b/(a+b)\n",
    "    return 2* p * (1-p)\n",
    "\n",
    "\n",
    "def delta_i(impurity, t, tl, tr):\n",
    "    N = sum(t)\n",
    "    print('i(t) =', round(impurity(*t), 5),\n",
    "          ' Nl/(Nl+Nr) * i(tL) =', round((sum(tl)/N)*impurity(*tl), 5),\n",
    "          ' Nr/(Nl+Nr) * i(tR) =', round((sum(tr)/N)*impurity(*tr), 5))\n",
    "    return impurity(*t) - (sum(tl)/N)*impurity(*tl) - (sum(tr)/N)*impurity(*tr)"
   ]
  },
  {
   "cell_type": "code",
   "execution_count": 4,
   "metadata": {
    "collapsed": false
   },
   "outputs": [
    {
     "name": "stdout",
     "output_type": "stream",
     "text": [
      "With \"accuracy\" as splitting criteria:\n",
      "Splitting t on X0<0.5\n",
      "resulting leaf tL: [2, 3] and leaf tR: [0, 5]\n",
      "i(t) = 0.2  Nl/(Nl+Nr) * i(tL) = 0.2  Nr/(Nl+Nr) * i(tR) = 0.0\n",
      "di(t) = i(t) - Nl/(Nl+Nr)*i(tL) - Nr/(Nl+Nr)*i(tR) = -0.0\n",
      "----------\n",
      "Splitting t on X1<0.5\n",
      "resulting leaf tL: [2, 4] and leaf tR: [0, 4]\n",
      "i(t) = 0.2  Nl/(Nl+Nr) * i(tL) = 0.2  Nr/(Nl+Nr) * i(tR) = 0.0\n",
      "di(t) = i(t) - Nl/(Nl+Nr)*i(tL) - Nr/(Nl+Nr)*i(tR) = -0.0\n",
      "----------\n",
      "Splitting t on X2<0.5\n",
      "resulting leaf tL: [1, 5] and leaf tR: [1, 3]\n",
      "i(t) = 0.2  Nl/(Nl+Nr) * i(tL) = 0.1  Nr/(Nl+Nr) * i(tR) = 0.1\n",
      "di(t) = i(t) - Nl/(Nl+Nr)*i(tL) - Nr/(Nl+Nr)*i(tR) = -0.0\n",
      "----------\n",
      "\n"
     ]
    }
   ],
   "source": [
    "def split(impurity):\n",
    "    # for simplicity we iterate over all three variables\n",
    "    for idx in (0, 1, 2):\n",
    "        t = Counter(y)\n",
    "        print('Splitting t on X%i<0.5' % (idx))\n",
    "        tl = [0, 0]\n",
    "        tr = [0, 0]\n",
    "        for x,y_ in zip(X[:, idx], y):\n",
    "            if x < 0.5:\n",
    "                if y_ < 0.5:\n",
    "                    tl[0] += 1\n",
    "                else:\n",
    "                    tl[1] += 1\n",
    "            else:\n",
    "                if y_ < 0.5:\n",
    "                    tr[0] += 1\n",
    "                else:\n",
    "                    tr[1] += 1\n",
    "\n",
    "        print('resulting leaf tL:', tl, 'and leaf tR:', tr)\n",
    "        dI = delta_i(impurity, (t[0], t[1]), tl, tr)\n",
    "        print('di(t) = i(t) - Nl/(Nl+Nr)*i(tL) - Nr/(Nl+Nr)*i(tR) =', round(dI, 5))\n",
    "        print('----------')\n",
    "        \n",
    "print('With \"accuracy\" as splitting criteria:')\n",
    "split(accuracy)\n",
    "print()"
   ]
  },
  {
   "cell_type": "markdown",
   "metadata": {},
   "source": [
    "When using accuracy as splitting criteria we can not find a split to make for the root node as none of the splits would lead to an increase in the impurity. Splits where the majority class remains the same in the child nodes are considered not worth making.\n",
    "\n",
    "The tree growing procedure proceeds one step at a time, this makes it shortsighted. We can help the procedure out by using a impurity/splitting criteria that can measure the \"potential\" for a future split. The entropy does this as it looks at the class probabilities. It consideres a split worth making if the split alters the class distributions of the child nodes. Even if the predicted classes for each remain the same as for the parent."
   ]
  },
  {
   "cell_type": "code",
   "execution_count": 5,
   "metadata": {
    "collapsed": false
   },
   "outputs": [
    {
     "name": "stdout",
     "output_type": "stream",
     "text": [
      "With \"entropy\" as splitting criteria:\n",
      "Splitting t on X0<0.5\n",
      "resulting leaf tL: [2, 3] and leaf tR: [0, 5]\n",
      "i(t) = 0.72193  Nl/(Nl+Nr) * i(tL) = 0.48548  Nr/(Nl+Nr) * i(tR) = -0.0\n",
      "di(t) = i(t) - Nl/(Nl+Nr)*i(tL) - Nr/(Nl+Nr)*i(tR) = 0.23645\n",
      "----------\n",
      "Splitting t on X1<0.5\n",
      "resulting leaf tL: [2, 4] and leaf tR: [0, 4]\n",
      "i(t) = 0.72193  Nl/(Nl+Nr) * i(tL) = 0.55098  Nr/(Nl+Nr) * i(tR) = -0.0\n",
      "di(t) = i(t) - Nl/(Nl+Nr)*i(tL) - Nr/(Nl+Nr)*i(tR) = 0.17095\n",
      "----------\n",
      "Splitting t on X2<0.5\n",
      "resulting leaf tL: [1, 5] and leaf tR: [1, 3]\n",
      "i(t) = 0.72193  Nl/(Nl+Nr) * i(tL) = 0.39001  Nr/(Nl+Nr) * i(tR) = 0.32451\n",
      "di(t) = i(t) - Nl/(Nl+Nr)*i(tL) - Nr/(Nl+Nr)*i(tR) = 0.0074\n",
      "----------\n"
     ]
    }
   ],
   "source": [
    "# repeat using entropy as splitting criteria\n",
    "print('With \"entropy\" as splitting criteria:')\n",
    "split(entropy)"
   ]
  },
  {
   "cell_type": "code",
   "execution_count": 6,
   "metadata": {
    "collapsed": false
   },
   "outputs": [
    {
     "data": {
      "text/html": [
       "<?xml version=\"1.0\" encoding=\"UTF-8\" standalone=\"no\"?>\n",
       "<!DOCTYPE svg PUBLIC \"-//W3C//DTD SVG 1.1//EN\"\n",
       " \"http://www.w3.org/Graphics/SVG/1.1/DTD/svg11.dtd\">\n",
       "<!-- Generated by graphviz version 2.38.0 (20140413.2041)\n",
       " -->\n",
       "<!-- Title: Tree Pages: 1 -->\n",
       "<svg width=\"271pt\" height=\"258pt\"\n",
       " viewBox=\"0.00 0.00 270.54 258.00\" xmlns=\"http://www.w3.org/2000/svg\" xmlns:xlink=\"http://www.w3.org/1999/xlink\">\n",
       "<g id=\"graph0\" class=\"graph\" transform=\"scale(1 1) rotate(0) translate(4 254)\">\n",
       "<title>Tree</title>\n",
       "<polygon fill=\"white\" stroke=\"none\" points=\"-4,4 -4,-254 266.537,-254 266.537,4 -4,4\"/>\n",
       "<!-- 0 -->\n",
       "<g id=\"node1\" class=\"node\"><title>0</title>\n",
       "<polygon fill=\"#399de5\" fill-opacity=\"0.749020\" stroke=\"black\" points=\"214.93,-250 102.607,-250 102.607,-186 214.93,-186 214.93,-250\"/>\n",
       "<text text-anchor=\"middle\" x=\"158.769\" y=\"-234.8\" font-family=\"Times,serif\" font-size=\"14.00\">X1 &lt;= 0.5</text>\n",
       "<text text-anchor=\"middle\" x=\"158.769\" y=\"-220.8\" font-family=\"Times,serif\" font-size=\"14.00\">entropy = 0.7219</text>\n",
       "<text text-anchor=\"middle\" x=\"158.769\" y=\"-206.8\" font-family=\"Times,serif\" font-size=\"14.00\">samples = 10</text>\n",
       "<text text-anchor=\"middle\" x=\"158.769\" y=\"-192.8\" font-family=\"Times,serif\" font-size=\"14.00\">value = [2, 8]</text>\n",
       "</g>\n",
       "<!-- 1 -->\n",
       "<g id=\"node2\" class=\"node\"><title>1</title>\n",
       "<polygon fill=\"#399de5\" fill-opacity=\"0.333333\" stroke=\"black\" points=\"153.43,-150 48.1073,-150 48.1073,-86 153.43,-86 153.43,-150\"/>\n",
       "<text text-anchor=\"middle\" x=\"100.769\" y=\"-134.8\" font-family=\"Times,serif\" font-size=\"14.00\">X2 &lt;= 0.5</text>\n",
       "<text text-anchor=\"middle\" x=\"100.769\" y=\"-120.8\" font-family=\"Times,serif\" font-size=\"14.00\">entropy = 0.971</text>\n",
       "<text text-anchor=\"middle\" x=\"100.769\" y=\"-106.8\" font-family=\"Times,serif\" font-size=\"14.00\">samples = 5</text>\n",
       "<text text-anchor=\"middle\" x=\"100.769\" y=\"-92.8\" font-family=\"Times,serif\" font-size=\"14.00\">value = [2, 3]</text>\n",
       "</g>\n",
       "<!-- 0&#45;&gt;1 -->\n",
       "<g id=\"edge1\" class=\"edge\"><title>0&#45;&gt;1</title>\n",
       "<path fill=\"none\" stroke=\"black\" d=\"M140.417,-185.992C135.339,-177.413 129.756,-167.978 124.422,-158.966\"/>\n",
       "<polygon fill=\"black\" stroke=\"black\" points=\"127.305,-156.966 119.2,-150.142 121.281,-160.531 127.305,-156.966\"/>\n",
       "<text text-anchor=\"middle\" x=\"112.99\" y=\"-170.159\" font-family=\"Times,serif\" font-size=\"14.00\">True</text>\n",
       "</g>\n",
       "<!-- 4 -->\n",
       "<g id=\"node5\" class=\"node\"><title>4</title>\n",
       "<polygon fill=\"#399de5\" stroke=\"black\" points=\"262.307,-143 171.23,-143 171.23,-93 262.307,-93 262.307,-143\"/>\n",
       "<text text-anchor=\"middle\" x=\"216.769\" y=\"-127.8\" font-family=\"Times,serif\" font-size=\"14.00\">entropy = 0.0</text>\n",
       "<text text-anchor=\"middle\" x=\"216.769\" y=\"-113.8\" font-family=\"Times,serif\" font-size=\"14.00\">samples = 5</text>\n",
       "<text text-anchor=\"middle\" x=\"216.769\" y=\"-99.8\" font-family=\"Times,serif\" font-size=\"14.00\">value = [0, 5]</text>\n",
       "</g>\n",
       "<!-- 0&#45;&gt;4 -->\n",
       "<g id=\"edge4\" class=\"edge\"><title>0&#45;&gt;4</title>\n",
       "<path fill=\"none\" stroke=\"black\" d=\"M177.12,-185.992C183.498,-175.215 190.675,-163.09 197.151,-152.146\"/>\n",
       "<polygon fill=\"black\" stroke=\"black\" points=\"200.313,-153.676 202.394,-143.288 194.289,-150.111 200.313,-153.676\"/>\n",
       "<text text-anchor=\"middle\" x=\"208.604\" y=\"-163.304\" font-family=\"Times,serif\" font-size=\"14.00\">False</text>\n",
       "</g>\n",
       "<!-- 2 -->\n",
       "<g id=\"node3\" class=\"node\"><title>2</title>\n",
       "<polygon fill=\"#e58139\" stroke=\"black\" points=\"91.3068,-50 0.230281,-50 0.230281,-0 91.3068,-0 91.3068,-50\"/>\n",
       "<text text-anchor=\"middle\" x=\"45.7686\" y=\"-34.8\" font-family=\"Times,serif\" font-size=\"14.00\">entropy = 0.0</text>\n",
       "<text text-anchor=\"middle\" x=\"45.7686\" y=\"-20.8\" font-family=\"Times,serif\" font-size=\"14.00\">samples = 2</text>\n",
       "<text text-anchor=\"middle\" x=\"45.7686\" y=\"-6.8\" font-family=\"Times,serif\" font-size=\"14.00\">value = [2, 0]</text>\n",
       "</g>\n",
       "<!-- 1&#45;&gt;2 -->\n",
       "<g id=\"edge2\" class=\"edge\"><title>1&#45;&gt;2</title>\n",
       "<path fill=\"none\" stroke=\"black\" d=\"M81.9945,-85.9375C76.6731,-77.133 70.8654,-67.5239 65.4898,-58.6297\"/>\n",
       "<polygon fill=\"black\" stroke=\"black\" points=\"68.4603,-56.778 60.2922,-50.0301 62.4695,-60.3988 68.4603,-56.778\"/>\n",
       "</g>\n",
       "<!-- 3 -->\n",
       "<g id=\"node4\" class=\"node\"><title>3</title>\n",
       "<polygon fill=\"#399de5\" stroke=\"black\" points=\"201.307,-50 110.23,-50 110.23,-0 201.307,-0 201.307,-50\"/>\n",
       "<text text-anchor=\"middle\" x=\"155.769\" y=\"-34.8\" font-family=\"Times,serif\" font-size=\"14.00\">entropy = 0.0</text>\n",
       "<text text-anchor=\"middle\" x=\"155.769\" y=\"-20.8\" font-family=\"Times,serif\" font-size=\"14.00\">samples = 3</text>\n",
       "<text text-anchor=\"middle\" x=\"155.769\" y=\"-6.8\" font-family=\"Times,serif\" font-size=\"14.00\">value = [0, 3]</text>\n",
       "</g>\n",
       "<!-- 1&#45;&gt;3 -->\n",
       "<g id=\"edge3\" class=\"edge\"><title>1&#45;&gt;3</title>\n",
       "<path fill=\"none\" stroke=\"black\" d=\"M119.543,-85.9375C124.864,-77.133 130.672,-67.5239 136.047,-58.6297\"/>\n",
       "<polygon fill=\"black\" stroke=\"black\" points=\"139.068,-60.3988 141.245,-50.0301 133.077,-56.778 139.068,-60.3988\"/>\n",
       "</g>\n",
       "</g>\n",
       "</svg>\n"
      ],
      "text/plain": [
       "<IPython.core.display.HTML object>"
      ]
     },
     "execution_count": 6,
     "metadata": {},
     "output_type": "execute_result"
    }
   ],
   "source": [
    "from utils import draw_tree\n",
    "from sklearn.tree import DecisionTreeClassifier\n",
    "\n",
    "# check using a DecisionTreeClassifier from sklearn\n",
    "# note the tree stops growing after depth 3, even though\n",
    "# we set no limit on max_depth.\n",
    "# The terminal leaves are pure.\n",
    "clf = DecisionTreeClassifier(criterion='entropy', max_depth=None)\n",
    "clf.fit(X, y)\n",
    "draw_tree(clf, ['X1', 'X2', 'X3'], filled=True)"
   ]
  },
  {
   "cell_type": "code",
   "execution_count": 7,
   "metadata": {
    "collapsed": false
   },
   "outputs": [
    {
     "name": "stdout",
     "output_type": "stream",
     "text": [
      "Splitting t on X0<0.5\n",
      "resulting leaf tL: [2, 3] and leaf tR: [0, 5]\n",
      "i(t) = 0.32  Nl/(Nl+Nr) * i(tL) = 0.24  Nr/(Nl+Nr) * i(tR) = 0.0\n",
      "di(t) = i(t) - Nl/(Nl+Nr)*i(tL) - Nr/(Nl+Nr)*i(tR) = 0.08\n",
      "----------\n",
      "Splitting t on X1<0.5\n",
      "resulting leaf tL: [2, 4] and leaf tR: [0, 4]\n",
      "i(t) = 0.32  Nl/(Nl+Nr) * i(tL) = 0.26667  Nr/(Nl+Nr) * i(tR) = 0.0\n",
      "di(t) = i(t) - Nl/(Nl+Nr)*i(tL) - Nr/(Nl+Nr)*i(tR) = 0.05333\n",
      "----------\n",
      "Splitting t on X2<0.5\n",
      "resulting leaf tL: [1, 5] and leaf tR: [1, 3]\n",
      "i(t) = 0.32  Nl/(Nl+Nr) * i(tL) = 0.16667  Nr/(Nl+Nr) * i(tR) = 0.15\n",
      "di(t) = i(t) - Nl/(Nl+Nr)*i(tL) - Nr/(Nl+Nr)*i(tR) = 0.00333\n",
      "----------\n"
     ]
    }
   ],
   "source": [
    "# similar for the gini index\n",
    "split(gini)"
   ]
  }
 ],
 "metadata": {
  "kernelspec": {
   "display_name": "Python 3",
   "language": "python",
   "name": "python3"
  },
  "language_info": {
   "codemirror_mode": {
    "name": "ipython",
    "version": 3
   },
   "file_extension": ".py",
   "mimetype": "text/x-python",
   "name": "python",
   "nbconvert_exporter": "python",
   "pygments_lexer": "ipython3",
   "version": "3.6.1"
  }
 },
 "nbformat": 4,
 "nbformat_minor": 2
}
