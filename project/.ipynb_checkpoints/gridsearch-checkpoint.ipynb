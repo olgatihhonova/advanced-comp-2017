{
 "cells": [
  {
   "cell_type": "code",
   "execution_count": 1,
   "metadata": {
    "collapsed": false
   },
   "outputs": [
    {
     "name": "stderr",
     "output_type": "stream",
     "text": [
      "Using TensorFlow backend.\n"
     ]
    }
   ],
   "source": [
    "%config InlineBackend.figure_format='retina'\n",
    "%matplotlib inline\n",
    "\n",
    "import numpy as np\n",
    "np.random.seed(13)\n",
    "import matplotlib.pyplot as plt\n",
    "#plt.rcParams[\"figure.figsize\"] = (8, 8)\n",
    "plt.rcParams[\"font.size\"] = 14\n",
    "import os\n",
    "import stat\n",
    "from PIL import Image\n",
    "\n",
    "from keras.preprocessing.image import ImageDataGenerator\n",
    "from keras.models import Sequential\n",
    "from keras.layers import Conv2D, MaxPooling2D\n",
    "from keras.layers import Activation, Dropout, Flatten, Dense\n",
    "from keras import backend as K\n",
    "from keras import optimizers\n",
    "from keras.preprocessing.image import ImageDataGenerator, array_to_img, img_to_array, load_img, array_to_img\n",
    "import matplotlib.image as mpimg\n",
    "from shutil import copy2\n",
    "from keras import applications\n",
    "from keras import regularizers\n",
    "from keras.wrappers.scikit_learn import KerasClassifier\n",
    "from sklearn.model_selection import GridSearchCV\n",
    "from sklearn import preprocessing"
   ]
  },
  {
   "cell_type": "code",
   "execution_count": 2,
   "metadata": {
    "collapsed": true
   },
   "outputs": [],
   "source": [
    "train_data_dir = 'UCMerced_LandUse/Images21D/train'\n",
    "validation_data_dir = 'UCMerced_LandUse/Images21D/validation'\n",
    "test_data_dir = 'UCMerced_LandUse/Images21D/test'\n",
    "img_width, img_height = 256, 256\n",
    "nb_classes = 21\n",
    "nb_train_samples = 60*nb_classes # I divide 100 pics to 60/20/20 for train/validate/test purposes\n",
    "nb_validation_samples = 20*nb_classes\n",
    "epochs = 20\n",
    "batch_size = 20"
   ]
  },
  {
   "cell_type": "code",
   "execution_count": 3,
   "metadata": {
    "collapsed": true
   },
   "outputs": [],
   "source": [
    "train_data = np.load(open('bottleneck_features_train.npy', 'rb'))\n",
    "length = int(nb_train_samples/nb_classes)\n",
    "train_labels = np.array([ [label]*length for label in np.arange(nb_classes) ]).flatten()\n",
    "\n",
    "validation_data = np.load(open('bottleneck_features_validation.npy', 'rb'))\n",
    "length = int(nb_validation_samples/nb_classes)\n",
    "validation_labels = np.array([ [label]*length for label in np.arange(nb_classes) ]).flatten()"
   ]
  },
  {
   "cell_type": "code",
   "execution_count": 4,
   "metadata": {
    "collapsed": false
   },
   "outputs": [
    {
     "data": {
      "text/plain": [
       "((1260, 8, 8, 512), (1260, 21))"
      ]
     },
     "execution_count": 4,
     "metadata": {},
     "output_type": "execute_result"
    }
   ],
   "source": [
    "#train_data = np.array([np.array(dat).flatten() for dat in train_data])\n",
    "#validation_data = np.array([np.array(dat).flatten() for dat in validation_data])\n",
    "\n",
    "lb = preprocessing.LabelBinarizer()\n",
    "lb.fit(np.arange(nb_classes))\n",
    "train_labels = lb.transform(train_labels)\n",
    "validation_labels = lb.transform(validation_labels)\n",
    "np.shape(train_data), np.shape(train_labels)"
   ]
  },
  {
   "cell_type": "code",
   "execution_count": 5,
   "metadata": {
    "collapsed": true
   },
   "outputs": [],
   "source": [
    "def make_model(alpha1, alpha2, dropout_rate1, dropout_rate2):\n",
    "    model = Sequential()\n",
    "\n",
    "    model.add(Flatten(input_shape=train_data.shape[1:]))\n",
    "\n",
    "    model.add(Dense(64, activation='relu', kernel_regularizer=regularizers.l2(alpha1) ))\n",
    "    model.add(Dropout(dropout_rate1))\n",
    "    model.add(Dense(64, activation='relu', kernel_regularizer=regularizers.l2(alpha2) ))\n",
    "    model.add(Dropout(dropout_rate2))\n",
    "\n",
    "    model.add(Dense(21, activation='softmax'))\n",
    "\n",
    "    model.compile(loss='categorical_crossentropy',\n",
    "              optimizer='rmsprop', \n",
    "              metrics=['accuracy'])\n",
    "\n",
    "    return model"
   ]
  },
  {
   "cell_type": "code",
   "execution_count": 6,
   "metadata": {
    "collapsed": false
   },
   "outputs": [
    {
     "name": "stdout",
     "output_type": "stream",
     "text": [
      "_________________________________________________________________\n",
      "Layer (type)                 Output Shape              Param #   \n",
      "=================================================================\n",
      "flatten_1 (Flatten)          (None, 32768)             0         \n",
      "_________________________________________________________________\n",
      "dense_1 (Dense)              (None, 64)                2097216   \n",
      "_________________________________________________________________\n",
      "dropout_1 (Dropout)          (None, 64)                0         \n",
      "_________________________________________________________________\n",
      "dense_2 (Dense)              (None, 64)                4160      \n",
      "_________________________________________________________________\n",
      "dropout_2 (Dropout)          (None, 64)                0         \n",
      "_________________________________________________________________\n",
      "dense_3 (Dense)              (None, 21)                1365      \n",
      "=================================================================\n",
      "Total params: 2,102,741\n",
      "Trainable params: 2,102,741\n",
      "Non-trainable params: 0\n",
      "_________________________________________________________________\n"
     ]
    }
   ],
   "source": [
    "modell = make_model(0, 0, 0, 0)\n",
    "modell.summary()"
   ]
  },
  {
   "cell_type": "code",
   "execution_count": 7,
   "metadata": {
    "collapsed": false
   },
   "outputs": [],
   "source": [
    "my_classifier = KerasClassifier(make_model, batch_size=batch_size)\n",
    "validator = GridSearchCV(my_classifier,\n",
    "                         param_grid={'alpha1': np.arange(0, 0.2, 0.1),\n",
    "                                     'alpha2': np.arange(0, 0.2, 0.1),\n",
    "                                     'dropout_rate1': np.arange(0, 0.2, 0.1),\n",
    "                                     'dropout_rate2': np.arange(0, 0.2, 0.1),\n",
    "                                     'epochs': [2]},\n",
    "                        scoring='neg_log_loss',\n",
    "                        n_jobs=1)\n",
    "\n",
    "# validator = GridSearchCV(my_classifier,\n",
    "#                          param_grid={'alpha1': np.arange(0, 0.2, 0.01),\n",
    "#                                      'alpha2': np.arange(0, 0.2, 0.01),\n",
    "#                                      'dropout_rate1': np.arange(0, 1, 0.1),\n",
    "#                                      'dropout_rate2': np.arange(0, 1, 0.1),\n",
    "#                                      'epochs': [2]},\n",
    "#                         scoring='neg_log_loss',\n",
    "#                         n_jobs=1)"
   ]
  },
  {
   "cell_type": "code",
   "execution_count": 9,
   "metadata": {
    "collapsed": false,
    "scrolled": false
   },
   "outputs": [],
   "source": [
    "validator.fit(train_data, train_labels)\n",
    "\n",
    "\n",
    "print('The parameters of the best model are: ')\n",
    "print(validator.best_params_)"
   ]
  },
  {
   "cell_type": "code",
   "execution_count": 74,
   "metadata": {
    "collapsed": false
   },
   "outputs": [
    {
     "name": "stdout",
     "output_type": "stream",
     "text": [
      "420/420 [==============================] - 2s      \b\b\b\b\b\b\b\b\b\b\b\b\b\b\b\b\b\b\b\b\b\b\b\b\b\b\b\b\b\b\b\b\b\b\b\b\b\b\b\b\b\b\b\b\b\b\b\b\b\b\b\b\b\b\b\b\b\b\b\b\b\b\b\b\b\b\b\b\b\b\b\b\b\b\b\b\b\b\b\b\b\b\b\b\b\b\b\b\b\b\b\b\b\b\b\b\b\b\b\b\b\b\b\b\b\b\b\b\b\b\b\b\b\b\b\b\b\b\b\b\b\b\b\b\b\b\b\b\b\b\b\b\b\b\b\b\b\b\b\b\b\b\b\b\b\b\b\b\b\b\b\b\b\b\b\b\b\b\b\b\b\b\b\b\b\b\b\b\b\b\b\b\b\b\b\b\b\b\b\b\b\b\b\b\b\b\b\b\b\b\b\b\b\b\b\b\b\b\b\b\b\b\b\b\b\b\b\b\b\b\b\b\b\b\b\b\b\b\b\b\b\b\b\b\b\b\b\b\b\b\b\b\b\b\b\b\b\b\b\b\b\b\b\b\b\b\b\b\b\b\b\n",
      "loss :  3.04826067062\n",
      "acc :  0.097619047619\n"
     ]
    }
   ],
   "source": [
    "#validator.best_estimator_ returns sklearn-wrapped version of best model.\n",
    "#validator.best_estimator_.model returns the (unwrapped) keras model\n",
    "\n",
    "best_model = validator.best_estimator_.model\n",
    "metric_names = best_model.metrics_names\n",
    "metric_values = best_model.evaluate(validation_data, validation_labels)\n",
    "for metric, value in zip(metric_names, metric_values):\n",
    "   print(metric, ': ', value)"
   ]
  },
  {
   "cell_type": "code",
   "execution_count": null,
   "metadata": {
    "collapsed": true
   },
   "outputs": [],
   "source": []
  }
 ],
 "metadata": {
  "kernelspec": {
   "display_name": "Python 3",
   "language": "python",
   "name": "python3"
  },
  "language_info": {
   "codemirror_mode": {
    "name": "ipython",
    "version": 3
   },
   "file_extension": ".py",
   "mimetype": "text/x-python",
   "name": "python",
   "nbconvert_exporter": "python",
   "pygments_lexer": "ipython3",
   "version": "3.6.0"
  }
 },
 "nbformat": 4,
 "nbformat_minor": 2
}
